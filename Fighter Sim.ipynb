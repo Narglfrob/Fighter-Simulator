{
 "cells": [
  {
   "cell_type": "markdown",
   "metadata": {},
   "source": [
    "https://jeffknupp.com/blog/2014/06/18/improve-your-python-python-classes-and-object-oriented-programming/"
   ]
  },
  {
   "cell_type": "code",
   "execution_count": 160,
   "metadata": {
    "collapsed": false
   },
   "outputs": [],
   "source": [
    "import random\n",
    "import matplotlib.pyplot as plt\n",
    "%matplotlib inline\n",
    "import numpy\n",
    "import numpy as np\n"
   ]
  },
  {
   "cell_type": "code",
   "execution_count": 171,
   "metadata": {
    "collapsed": false
   },
   "outputs": [],
   "source": [
    "def rolldice(dicenum, dicetype):\n",
    "    roll = 0\n",
    "    for i in range(dicenum):\n",
    "        roll = roll + random.randint(1,dicetype)\n",
    "    return roll"
   ]
  },
  {
   "cell_type": "code",
   "execution_count": 175,
   "metadata": {
    "collapsed": true
   },
   "outputs": [],
   "source": [
    "def remove_values_from_list(the_list, val):\n",
    "   return [value for value in the_list if value != val]"
   ]
  },
  {
   "cell_type": "code",
   "execution_count": 215,
   "metadata": {
    "collapsed": false
   },
   "outputs": [],
   "source": [
    "class Fighter(object):\n",
    "\n",
    "    def __init__(self, name, ):\n",
    "        \"\"\"Return a Fighter object whose name is *name*\"\"\"\n",
    "        self.name = name\n",
    "    def equip(self, weapon):\n",
    "        \"\"\"Equip a Weapon.\"\"\"\n",
    "        if weapon == '2h sword':\n",
    "            self.weapon = weapon\n",
    "            self.dicenum = 2\n",
    "            self.dicetype = 6\n",
    "        elif weapon == '2h axe':\n",
    "            self.weapon = weapon\n",
    "            self.dicenum = 1\n",
    "            self.dicetype = 12\n",
    "        else:\n",
    "            raise RuntimeError('That type of weapon is not available.')\n",
    "        return self.weapon + \" equipped\"\n",
    "\n",
    "    def GreatWeaponMaster(self):\n",
    "        \"\"\"Enables Great Weapon Master.\"\"\"\n",
    "        self.GreatWeaponMaster = True\n",
    "        return 'enabled'\n",
    "    def GreatWeaponFighter(self):\n",
    "        \"\"\"Enables the Fighting Style, Great Weapon Fighter\"\"\"\n",
    "        self.GreatWeaponFighter = True\n",
    "    def attack(self,enemyAC):\n",
    "        hitroll = rolldice(1,20)\n",
    "        if hitroll >= enemyAC:\n",
    "            damage = 0\n",
    "            for i in range(self.dicenum):\n",
    "                roll = random.randint(1,self.dicetype)\n",
    "                \n",
    "                #Great Weapon Fighters re-roll on 1's or 2's\n",
    "                if roll in [1,2] and self.GreatWeaponFighter == True:\n",
    "                    roll = random.randint(1,self.dicetype)\n",
    "                \n",
    "                damage = damage + roll\n",
    "        else: \n",
    "            damage = 0\n",
    "            \n",
    "            \n",
    "        return damage\n",
    "    #def name(self):\n",
    "       #\" return self.name"
   ]
  },
  {
   "cell_type": "code",
   "execution_count": 179,
   "metadata": {
    "collapsed": false
   },
   "outputs": [
    {
     "data": {
      "text/plain": [
       "7.0099999999999998"
      ]
     },
     "execution_count": 179,
     "metadata": {},
     "output_type": "execute_result"
    },
    {
     "data": {
      "image/png": "[encoded data removed]",
      "text/plain": [
       "<matplotlib.figure.Figure at 0x211e3069898>"
      ]
     },
     "metadata": {},
     "output_type": "display_data"
    }
   ],
   "source": [
    "Tenzing = Fighter('Tenzing')\n",
    "Tenzing.equip('2h sword')\n",
    "Tenzing.GreatWeaponMaster()\n",
    "attempts = 100000\n",
    "dmg = []\n",
    "\n",
    "\n",
    "for i in range(attempts):\n",
    "    dmg.append(Tenzing.attack(10))\n",
    "    \n",
    "\n",
    "dmg = remove_values_from_list(dmg,0)\n",
    "\n",
    "number_of_unique = len(set(dmg))\n",
    "#bins = numpy.linspace(0, max(dmg), number_of_unique+2)\n",
    "\n",
    "plt.hist(dmg)\n",
    "plt.title(\"Gaussian Histogram\")\n",
    "plt.xlabel(\"Value\")\n",
    "plt.ylabel(\"Frequency\")\n",
    "\n",
    "fig = plt.gcf()\n",
    "\n",
    "round(numpy.mean(dmg),2)"
   ]
  },
  {
   "cell_type": "code",
   "execution_count": 180,
   "metadata": {
    "collapsed": false
   },
   "outputs": [
    {
     "data": {
      "text/plain": [
       "8.3300000000000001"
      ]
     },
     "execution_count": 180,
     "metadata": {},
     "output_type": "execute_result"
    },
    {
     "data": {
      "image/png": "[encoded data removed]",
      "text/plain": [
       "<matplotlib.figure.Figure at 0x211e2c83630>"
      ]
     },
     "metadata": {},
     "output_type": "display_data"
    }
   ],
   "source": [
    "GWFighter = Fighter('GWFighter')\n",
    "GWFighter.equip('2h sword')\n",
    "GWFighter.GreatWeaponFighter()\n",
    "\n",
    "attempts = 100000\n",
    "dmg = []\n",
    "\n",
    "for i in range(attempts):\n",
    "    dmg.append(GWFighter.attack(10))\n",
    "\n",
    "dmg = remove_values_from_list(dmg,0)\n",
    "    \n",
    "number_of_unique = len(set(dmg))\n",
    "#bins = numpy.linspace(0, max(dmg), number_of_unique+2)\n",
    "\n",
    "plt.hist(dmg)\n",
    "plt.title(\"Gaussian Histogram\")\n",
    "plt.xlabel(\"Value\")\n",
    "plt.ylabel(\"Frequency\")\n",
    "\n",
    "fig = plt.gcf()\n",
    "\n",
    "round(numpy.mean(dmg),2)"
   ]
  },
  {
   "cell_type": "code",
   "execution_count": 229,
   "metadata": {
    "collapsed": false
   },
   "outputs": [
    {
     "data": {
      "image/png": "[encoded data removed]",
      "text/plain": [
       "<matplotlib.figure.Figure at 0x211e5084be0>"
      ]
     },
     "metadata": {},
     "output_type": "display_data"
    }
   ],
   "source": [
    "AxeRegular = Fighter(\"AxeRegular\")\n",
    "AxeRegular.equip('2h axe')\n",
    "AxeGWF = Fighter(\"AxeGWF\")\n",
    "AxeGWF.equip('2h axe')\n",
    "AxeGWF.GreatWeaponFighter()\n",
    "SwordRegular = Fighter(\"SwordRegular\")\n",
    "SwordRegular.equip('2h sword')\n",
    "SwordGWF = Fighter(\"SwordGWF\")\n",
    "SwordGWF.equip('2h sword')\n",
    "SwordGWF.GreatWeaponFighter()\n",
    "\n",
    "Fighters = [AxeRegular,AxeGWF,SwordRegular,SwordGWF]\n",
    "attempts = 100000\n",
    "enemyAC = 10\n",
    "dmgs = []\n",
    "counter = 1\n",
    "\n",
    "\n",
    "def plot_histogram(data):\n",
    "    plt.hist(data,bins=np.arange(min(data), max(data)+2))\n",
    "\n",
    "plt.figure(1)\n",
    "    \n",
    "for afighter in Fighters:\n",
    "    dmg = []\n",
    "    for i in range(attempts):\n",
    "        dmg.append(afighter.attack(enemyAC))\n",
    "    dmg = remove_values_from_list(dmg,0)\n",
    "    dmgs.append(dmg)\n",
    "    \n",
    "\n",
    "    subplot_specification = 220+counter\n",
    "    plt.subplot(subplot_specification)\n",
    "    plot_histogram(dmg)\n",
    "    plt.title(afighter.name)\n",
    "    \n",
    "    \n",
    "    counter+=1\n",
    "    \n",
    "plt.subplots_adjust(top=0.92, bottom=0.08, left=0.10, right=0.95, hspace=0.5,\n",
    "                    wspace=0.35)"
   ]
  },
  {
   "cell_type": "code",
   "execution_count": 230,
   "metadata": {
    "collapsed": false
   },
   "outputs": [
    {
     "name": "stdout",
     "output_type": "stream",
     "text": [
      "6.49586686174\n",
      "7.35474452555\n",
      "7.01099916646\n",
      "8.32398956975\n"
     ]
    }
   ],
   "source": [
    "for dmg in dmgs:\n",
    "    print (numpy.mean(dmg))"
   ]
  },
  {
   "cell_type": "code",
   "execution_count": 217,
   "metadata": {
    "collapsed": false
   },
   "outputs": [
    {
     "data": {
      "text/plain": [
       "'Tenzing'"
      ]
     },
     "execution_count": 217,
     "metadata": {},
     "output_type": "execute_result"
    }
   ],
   "source": []
  },
  {
   "cell_type": "code",
   "execution_count": null,
   "metadata": {
    "collapsed": true
   },
   "outputs": [],
   "source": []
  }
 ],
 "metadata": {
  "kernelspec": {
   "display_name": "Python [Root]",
   "language": "python",
   "name": "Python [Root]"
  },
  "language_info": {
   "codemirror_mode": {
    "name": "ipython",
    "version": 3
   },
   "file_extension": ".py",
   "mimetype": "text/x-python",
   "name": "python",
   "nbconvert_exporter": "python",
   "pygments_lexer": "ipython3",
   "version": "3.5.2"
  }
 },
 "nbformat": 4,
 "nbformat_minor": 0
}
