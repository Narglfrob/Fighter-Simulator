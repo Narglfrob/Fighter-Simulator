{
 "cells": [
  {
   "cell_type": "markdown",
   "metadata": {},
   "source": [
    "# Setup"
   ]
  },
  {
   "cell_type": "code",
   "execution_count": 11,
   "metadata": {
    "collapsed": false
   },
   "outputs": [],
   "source": [
    "import random\n",
    "import matplotlib.pyplot as plt\n",
    "%matplotlib inline\n",
    "import numpy\n",
    "import numpy as np"
   ]
  },
  {
   "cell_type": "markdown",
   "metadata": {},
   "source": [
    "Since rolling dice is so common, first I need to set up a small function to handle that.\n",
    "<img src=\"dice.jpg\" style=\"width: 100px;\"/>\n"
   ]
  },
  {
   "cell_type": "code",
   "execution_count": 8,
   "metadata": {
    "collapsed": false
   },
   "outputs": [],
   "source": [
    "def rolldice(dicenum, dicetype):\n",
    "    roll = 0\n",
    "    for i in range(dicenum):\n",
    "        roll = roll + random.randint(1,dicetype)\n",
    "    return roll"
   ]
  },
  {
   "cell_type": "markdown",
   "metadata": {},
   "source": [
    "# Defining the Fighter\n",
    "Next, we define the abilities of the fighter"
   ]
  },
  {
   "cell_type": "code",
   "execution_count": 16,
   "metadata": {
    "collapsed": false
   },
   "outputs": [],
   "source": [
    "class Fighter(object):\n",
    "\n",
    "    def __init__(self, name, ):\n",
    "        \"\"\"Return a Fighter object whose name is *name*\"\"\"\n",
    "        self.name = name\n",
    "    def equip(self, weapon):\n",
    "        \"\"\"Equip a Weapon.\"\"\"\n",
    "        if weapon == '2h sword':\n",
    "            self.weapon = weapon\n",
    "            self.dicenum = 2\n",
    "            self.dicetype = 6\n",
    "        elif weapon == '2h axe':\n",
    "            self.weapon = weapon\n",
    "            self.dicenum = 1\n",
    "            self.dicetype = 12\n",
    "        else:\n",
    "            raise RuntimeError('That type of weapon is not available.')\n",
    "        return self.weapon + \" equipped\"\n",
    "\n",
    "    def GreatWeaponMaster(self):\n",
    "        \"\"\"Enables Great Weapon Master.\"\"\"\n",
    "        self.GreatWeaponMaster = True\n",
    "        return 'enabled'\n",
    "    def GreatWeaponFighter(self):\n",
    "        \"\"\"Enables the Fighting Style, Great Weapon Fighter\"\"\"\n",
    "        self.GreatWeaponFighter = True\n",
    "    def attack(self,enemyAC):\n",
    "        \"\"\"Simulates an attack on an enemy, returning how much damage is done\"\"\"\n",
    "        hitroll = rolldice(1,20)\n",
    "        damage = 0\n",
    "        #Check if it hits, given the enemies AC\n",
    "        if hitroll >= enemyAC: \n",
    "            \"\"\"roll for damage, we didn't use the rolldice function here because great weapon master \n",
    "                needed to know what the roll was in case of a 1 or 2\"\"\"\n",
    "            for i in range(self.dicenum):\n",
    "                roll = random.randint(1,self.dicetype)\n",
    "            \n",
    "                #Great Weapon Fighters re-roll on 1's or 2's\n",
    "                if roll in [1,2] and self.GreatWeaponFighter == True:\n",
    "                    roll = random.randint(1,self.dicetype)\n",
    "                \n",
    "                damage = damage + roll  \n",
    "        return damage\n"
   ]
  },
  {
   "cell_type": "markdown",
   "metadata": {},
   "source": [
    "# Making our First Fighter"
   ]
  },
  {
   "cell_type": "code",
   "execution_count": 4,
   "metadata": {
    "collapsed": true
   },
   "outputs": [],
   "source": [
    "Tenzing = Fighter('Tenzing')"
   ]
  },
  {
   "cell_type": "code",
   "execution_count": 5,
   "metadata": {
    "collapsed": false
   },
   "outputs": [
    {
     "data": {
      "text/plain": [
       "'2h sword equipped'"
      ]
     },
     "execution_count": 5,
     "metadata": {},
     "output_type": "execute_result"
    }
   ],
   "source": [
    "Tenzing.equip('2h sword')"
   ]
  },
  {
   "cell_type": "code",
   "execution_count": 6,
   "metadata": {
    "collapsed": false
   },
   "outputs": [
    {
     "data": {
      "text/plain": [
       "'enabled'"
      ]
     },
     "execution_count": 6,
     "metadata": {},
     "output_type": "execute_result"
    }
   ],
   "source": [
    "Tenzing.GreatWeaponMaster()"
   ]
  },
  {
   "cell_type": "code",
   "execution_count": 13,
   "metadata": {
    "collapsed": false
   },
   "outputs": [
    {
     "data": {
      "text/plain": [
       "11"
      ]
     },
     "execution_count": 13,
     "metadata": {},
     "output_type": "execute_result"
    }
   ],
   "source": [
    "Tenzing.attack(10)"
   ]
  },
  {
   "cell_type": "markdown",
   "metadata": {},
   "source": [
    "# Simulation: Axe vs Sword with Great Weapon Fighter\n",
    "Compare how the 2h axe (1d12) and the 2h sword (2d6) perform with the Greatp Weapon Fighter feat, (when rolling for damage, reroll 1s and 2s)"
   ]
  },
  {
   "cell_type": "code",
   "execution_count": 14,
   "metadata": {
    "collapsed": false
   },
   "outputs": [
    {
     "data": {
      "image/png": "[encoded data removed]",
      "text/plain": [
       "<matplotlib.figure.Figure at 0x17bc6504908>"
      ]
     },
     "metadata": {},
     "output_type": "display_data"
    }
   ],
   "source": [
    "\"\"\"Set up the fighters\"\"\"\n",
    "AxeRegular = Fighter(\"AxeRegular\")\n",
    "AxeRegular.equip('2h axe')\n",
    "\n",
    "AxeGWF = Fighter(\"AxeGWF\")\n",
    "AxeGWF.equip('2h axe')\n",
    "AxeGWF.GreatWeaponFighter()\n",
    "\n",
    "SwordRegular = Fighter(\"SwordRegular\")\n",
    "SwordRegular.equip('2h sword')\n",
    "\n",
    "SwordGWF = Fighter(\"SwordGWF\")\n",
    "SwordGWF.equip('2h sword')\n",
    "SwordGWF.GreatWeaponFighter()\n",
    "\n",
    "Fighters = [AxeRegular,AxeGWF,SwordRegular,SwordGWF]\n",
    "\n",
    "\"\"\"Setup the Scenario\"\"\"\n",
    "attempts = 100000\n",
    "enemyAC = 10\n",
    "dmgs = []\n",
    "counter = 1\n",
    "\n",
    "\"\"\"Some small helper functions\"\"\"\n",
    "def plot_histogram(data):\n",
    "    plt.hist(data,bins=np.arange(min(data), max(data)+2))\n",
    "\n",
    "def remove_values_from_list(the_list, val):\n",
    "   return [value for value in the_list if value != val]\n",
    "    \n",
    "\"\"\"Calculate and Plot the Results\"\"\"\n",
    "plt.figure(1)\n",
    "    \n",
    "for afighter in Fighters:\n",
    "    dmg = []\n",
    "    for i in range(attempts):\n",
    "        dmg.append(afighter.attack(enemyAC))\n",
    "    dmg = remove_values_from_list(dmg,0)\n",
    "    dmgs.append(dmg)\n",
    "\n",
    "    subplot_specification = 220+counter\n",
    "    plt.subplot(subplot_specification)\n",
    "    plot_histogram(dmg)\n",
    "    plt.title(afighter.name)\n",
    "    \n",
    "    counter+=1\n",
    "    \n",
    "plt.subplots_adjust(top=0.92, bottom=0.08, left=0.10, right=0.95, hspace=0.5,\n",
    "                    wspace=0.35)"
   ]
  },
  {
   "cell_type": "code",
   "execution_count": 15,
   "metadata": {
    "collapsed": false
   },
   "outputs": [
    {
     "name": "stdout",
     "output_type": "stream",
     "text": [
      "6.50219028311\n",
      "7.31523499336\n",
      "7.00247003269\n",
      "8.34175909675\n"
     ]
    }
   ],
   "source": [
    "for dmg in dmgs:\n",
    "    print (numpy.mean(dmg))"
   ]
  }
 ],
 "metadata": {
  "kernelspec": {
   "display_name": "Python [Root]",
   "language": "python",
   "name": "Python [Root]"
  },
  "language_info": {
   "codemirror_mode": {
    "name": "ipython",
    "version": 3
   },
   "file_extension": ".py",
   "mimetype": "text/x-python",
   "name": "python",
   "nbconvert_exporter": "python",
   "pygments_lexer": "ipython3",
   "version": "3.5.2"
  }
 },
 "nbformat": 4,
 "nbformat_minor": 0
}
